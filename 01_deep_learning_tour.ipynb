{
  "cells": [
    {
      "cell_type": "markdown",
      "metadata": {
        "id": "sxgwviKH7i3q"
      },
      "source": [
        "![Practicum AI Logo image](https://github.com/kthomasuf/deep_learning/blob/main/images/practicum_ai_logo.png?raw=1) <img src='https://github.com/kthomasuf/deep_learning/blob/main/images/practicumai_deep_learning.png?raw=1' alt='Practicum AI: Deep Learning Foundations icon' align='right' width=50>\n",
        "\n",
        "***\n",
        "# *Practicum AI:* Deep Learning Basics\n",
        "\n",
        "This exercise is inspired by Baig et al. (2020) <i>The Deep Learning Workshop</i> from <a href=\"https://www.packtpub.com/product/the-deep-learning-workshop/9781839219856\">Packt Publishers</a> (Exercise 1.01, page 7).\n",
        "\n",
        "## Deep learning for image recognition\n",
        "\n",
        "Before diving into exactly _how_ deep learning works, let's explore it through an example. We will explore just a few of the fantastic things you can do with existing models and see how easy it can be to implement AI tools with code.\n",
        "\n",
        "In this exercise, we will use a pre-trained deep learning model, [ResNet50](https://arxiv.org/abs/1512.03385), which has been trained on [ImageNet](https://image-net.org/), a collection of about 1.3 million images labeled as being in one of 1,000 categories. We won't focus on the details of ResNet50, but understand that it is a deep learning image classification model developed to categorize images into one of the 1,000 categories in the ImageNet dataset. Like many models, it is openly available and can be seamlessly imported into your notebook with or without the learned weights.\n",
        "\n",
        "To help with this exercise, let us introduce you to our heroine,  Dr. Amelia. <img alt=\"A cartoon of Dr. Amelia, a nutrition researcher, sitting at a computer thinking about food items which appear in a thought bubble.\" src=\"https://github.com/kthomasuf/deep_learning/blob/main/images/DrAmelia.jpg?raw=1\" padding=20 align=\"right\" width=250>\n",
        "\n",
        "Amelia is a research nutritionist who is conducting a dietary study in which she analyzes her participants' diets. Experience has shown her that when asked to report the details of their meals, participants frequently either do not enter the data or misreport what they ate. For Amelia's new study, she hopes to have them take photos of their meals and use AI to analyze their diet automatically. As a first step, she wants to test a model to see how well it can recognize a food item from a photo.\n",
        "\n",
        "Dr. Amelia doesn't have much data yet but has learned that using pre-trained models for many tasks is possible, and she hopes to avoid starting her project from scratch. As a prototype, we will help Amelia develop her AI-powered food recognition system!\n",
        "\n",
        "**Note:** Dr. Amelia's cartoon was generated with AI's assistance.\n",
        "\n",
        "Amelia is a *Practicum AI* alumna and recalls the AI Application Development Pathway.\n",
        "\n",
        "![Practicum AI Application Pathway Image](https://github.com/kthomasuf/deep_learning/blob/main/images/application_dev_pathway.png?raw=1)\n",
        "\n",
        "With her food image processing task, she has already completed Step 1: Choose a Problem! Due to the flexible nature of coding, implementing the following steps will jump around a bit. Don't worry; Amelia knows her stuff and will ensure we know where we are in the development process. Here is an overview of the steps in the application development process and how they correspond to the code in this Jupyter Notebook:\n",
        "\n",
        "1. Choose a Problem - Make a food item classifier that takes an input image and returns the predicted food object!\n",
        "2. Gather Good Data - Amelia is very busy; she doesn't have time to take thousands of food images! Instead, she will use a model that has already been trained to \"recognize\" various food items (and hundreds of other things!).\n",
        "3. Clean and Prep Data - The model she is using already has training data, so she doesn't need to worry about prepping her training data. However, she will have to work to ensure that her new inputs are formatted correctly.\n",
        "4. Choose a Model - Amelia needs a model that is already trained and recognizes images. That narrows her search to models like ResNet (though there is an ever-growing list of possibilities here!).\n",
        "5. Train the Model - Our heroine will use a pre-trained model, so... Done! She is up and running with an AI application without compiling or training anything.\n",
        "6. Evaluate the Model - As part of the evaluation process, Amelia will need to test the model to see how well it recognizes food.\n",
        "7. Deploy the Model - Amelia is comfortable using Jupyter Notebooks, so she will leave the application here for this initial proof of concept. Embedding the model in another application is unnecessary (and beyond the scope of this course!).\n",
        "\n",
        "### <img src='https://github.com/kthomasuf/deep_learning/blob/main/images/note_icon.svg?raw=1' width=40, align='center' alt='Note icon'> Note\n",
        "\n",
        "> While you may not be looking to classify food items (or have a very different AI project in mind), note that in many cases, there are models with which you start. The relative openness of AI researchers in sharing their models has enabled the community to:\n",
        ">   * Use a trained model \"out of the box,\" as Amelia will.\n",
        ">   * Fine-tune a model with some of your data.\n",
        ">   * Use an existing model architecture and train with your data.\n",
        ">   * Modify an existing model architecture and train with your data.\n",
        "> Rarely is there a need to start from scratch!\n",
        "\n",
        "## 1. Import libraries\n",
        "\n",
        "Import the necessary libraries. For this exercise, Amelia will use the pre-trained ResNet50 model that is part of Keras: `tensorflow.keras.applications.resnet50`. Check out the [Keras documentation](https://www.tensorflow.org/api_docs/python/tf/keras/applications/resnet50/ResNet50) for more details.\n",
        "\n",
        "### <img src='https://github.com/kthomasuf/deep_learning/blob/main/images/note_icon.svg?raw=1' width=40, align='center' alt='Note icon'> Note\n",
        "> Remember not all red is bad. Read through the output. The most likely error that you will encounter in the cell below that is a real issue is the failure to import a library. For example: `ModuleNotFoundError: No module named 'gtts'`. See the following code block on fixing that if needed. Most other warnings that we see can typically be ignored."
      ]
    },
    {
      "cell_type": "code",
      "execution_count": 3,
      "metadata": {
        "tags": [],
        "id": "IFCw0fdU7i3s"
      },
      "outputs": [],
      "source": [
        "# Import necessary libraries for image processing and deep learning.\n",
        "# The image processing functions, like img_to_array, will help Amelia format the image to run through her model.\n",
        "\n",
        "from tensorflow.keras.preprocessing.image import load_img\n",
        "from tensorflow.keras.preprocessing.image import img_to_array\n",
        "from tensorflow.keras.applications.resnet50 import ResNet50\n",
        "from tensorflow.keras.applications.resnet50 import preprocess_input\n",
        "from tensorflow.keras.applications.resnet50 import decode_predictions\n",
        "\n",
        "# Import base tensorflow and set seed to achieve consistent results.\n",
        "import tensorflow as tf\n",
        "import numpy as np\n",
        "\n",
        "# Import Google text-to-speech used later in the notebook.\n",
        "from gtts import gTTS\n",
        "import os\n",
        "\n",
        "# Set the seed for reproducibility.\n",
        "seed = 42\n",
        "\n",
        "tf.random.set_seed(seed)\n",
        "np.random.seed(seed)"
      ]
    },
    {
      "cell_type": "code",
      "execution_count": 2,
      "metadata": {
        "tags": [],
        "id": "iUdzwmd37i3t",
        "outputId": "d6ab1d91-8fe4-44a3-e41c-5c0bbd9be60c",
        "colab": {
          "base_uri": "https://localhost:8080/"
        }
      },
      "outputs": [
        {
          "output_type": "stream",
          "name": "stdout",
          "text": [
            "Collecting gTTS\n",
            "  Downloading gTTS-2.5.3-py3-none-any.whl.metadata (4.1 kB)\n",
            "Requirement already satisfied: requests<3,>=2.27 in /usr/local/lib/python3.10/dist-packages (from gTTS) (2.32.3)\n",
            "Requirement already satisfied: click<8.2,>=7.1 in /usr/local/lib/python3.10/dist-packages (from gTTS) (8.1.7)\n",
            "Requirement already satisfied: charset-normalizer<4,>=2 in /usr/local/lib/python3.10/dist-packages (from requests<3,>=2.27->gTTS) (3.3.2)\n",
            "Requirement already satisfied: idna<4,>=2.5 in /usr/local/lib/python3.10/dist-packages (from requests<3,>=2.27->gTTS) (3.7)\n",
            "Requirement already satisfied: urllib3<3,>=1.21.1 in /usr/local/lib/python3.10/dist-packages (from requests<3,>=2.27->gTTS) (2.0.7)\n",
            "Requirement already satisfied: certifi>=2017.4.17 in /usr/local/lib/python3.10/dist-packages (from requests<3,>=2.27->gTTS) (2024.7.4)\n",
            "Downloading gTTS-2.5.3-py3-none-any.whl (29 kB)\n",
            "Installing collected packages: gTTS\n",
            "Successfully installed gTTS-2.5.3\n"
          ]
        }
      ],
      "source": [
        "# If you are using a system that doesn't have gTTS you may need to install it.\n",
        "# If you get an import error, use the following code (without the hashtag, of course) to install gTTS:\n",
        "!pip install gTTS\n",
        "\n",
        "# Once installed, re-run the main import block to import everything."
      ]
    },
    {
      "cell_type": "markdown",
      "metadata": {
        "id": "oVfYs80j7i3t"
      },
      "source": [
        ">## <img src='https://github.com/kthomasuf/deep_learning/blob/main/images/alert_icon.svg?raw=1' alt=\"Alert icon\" width=40 align=center> Did you get an error here?\n",
        ">\n",
        ">If you got an error running the cell above, it is probably because the environment you are working in doesn't have `numpy` or `pandas` installed.\n",
        ">\n",
        ">### For Google Colab\n",
        ">\n",
        ">On Google Colab, this shouldn't be an issue (for these libraries), and if you do run into this in the future, it is generally OK (and expected in Colab) to use `!pip install ___` to install a library. In Colab, each notebook is independent of other notebooks, so the installation of packages has limited impact. But, be especially careful doing this on HPC systems; installing things that cause compatibility issues is easy.\n",
        ">\n",
        ">### For Jupyter on HPC systems\n",
        ">\n",
        ">For most of what the *Practicum AI* courses cover, an environment (known as a **kernel**) will be ready for you to use. Check the kernel if you run into an error about a missing library. The current kernel is shown in the top right of the notebook:\n",
        ">\n",
        ">![Screenshot of a Jupyter notebook showing the currently selected kernel](https://github.com/kthomasuf/deep_learning/blob/main/images/kernel.png?raw=1)\n",
        ">\n",
        ">For this notebook on HiPerGator, we will use the **Tensorflow-2.15** kernel."
      ]
    },
    {
      "cell_type": "markdown",
      "metadata": {
        "id": "bXrEDRxB7i3t"
      },
      "source": [
        "## 2. Instantiate the Resnet50 model\n",
        "\n",
        "Instantiating is a programming term that means taking the 'blueprint' of something (in this case, ResNet50) and making an object out of it (the model we will use here). This step creates the instance of the model to use.\n",
        "\n",
        "### <img src='https://github.com/kthomasuf/deep_learning/blob/main/images/note_icon.svg?raw=1' width=40, align='center' alt='Note icon'> Some Background on ResNet\n",
        "> ResNet, which stands for Residual Network, won the 2015 ImageNet competition. It was introduced to address the vanishing gradient problem commonly faced when training very deep neural networks. As networks become deeper, gradients (the values used to update network weights) can become extremely small, effectively halting training.\n",
        "> ResNet introduces the concept of \"residual blocks.\"  As it processes data, instead of relying solely on the current \"thought\" or layer, it can also \"refer back\" to earlier layers, much like using recent memories to help recall older ones. These \"references back\" are called skip connections. They act like bridges, letting the network jump over some layers to ensure that even as it delves deeper into processing, it remembers and retains important early details. This shortcut or skip connection allows gradients to propagate more easily through the network.\n",
        "> This architectural innovation has enabled the training of networks with depths previously thought infeasible. With hundreds or even thousands of layers, ResNet models have achieved state-of-the-art performance on many image classification benchmarks.\n",
        "> In this unit’s exercise, we used the ResNet50 model, which, as its name suggests, consists of 50 layers.\n",
        "\n",
        "```python\n",
        "# Create an instance of the ResNet50 model pre-trained on ImageNet data\n",
        "my_model = ResNet50()\n",
        "```"
      ]
    },
    {
      "cell_type": "code",
      "execution_count": 4,
      "metadata": {
        "id": "Chptarzu7i3u",
        "outputId": "f5816b5e-7d42-44bc-e448-033c9472745c",
        "colab": {
          "base_uri": "https://localhost:8080/"
        }
      },
      "outputs": [
        {
          "output_type": "stream",
          "name": "stdout",
          "text": [
            "Downloading data from https://storage.googleapis.com/tensorflow/keras-applications/resnet/resnet50_weights_tf_dim_ordering_tf_kernels.h5\n",
            "\u001b[1m102967424/102967424\u001b[0m \u001b[32m━━━━━━━━━━━━━━━━━━━━\u001b[0m\u001b[37m\u001b[0m \u001b[1m1s\u001b[0m 0us/step\n"
          ]
        }
      ],
      "source": [
        "# Code it!\n",
        "my_model = ResNet50()"
      ]
    },
    {
      "cell_type": "markdown",
      "metadata": {
        "id": "SqJmwsIs7i3u"
      },
      "source": [
        "## 3. Load image\n",
        "\n",
        "While developing her system, Amelia will use a test image of her favorite pizza to test the system. Let's load in her pizza image.\n",
        "\n",
        "Since ResNet50 was trained using images that are 224X224 pixels, we need to transform the input image to be the same size.\n",
        "\n",
        "### <img src='https://github.com/kthomasuf/deep_learning/blob/main/images/tip_icon.svg?raw=1' width=40, align='center' alt='Tip icon'> Tip\n",
        "> The pizza image is stored in the images folder; the complete path of the\n",
        "> location where the image is located must be given.\n",
        "\n",
        "\n",
        "```python\n",
        "# Load an image file for testing, resizing it to the required input size of 224x224 pixels\n",
        "my_image = load_img('images/pizza.jpg', target_size = (224, 224))\n",
        "```\n",
        "\n",
        "\n",
        "> If running on Google Colab, you have a couple of choices:\n",
        ">\n",
        "> 1. Change the `'images/pizza.jpg'` to use the web location of the\n",
        "> image in this repository:\n",
        "> `'https://raw.githubusercontent.com/PracticumAI/deep_learning/main/images/pizza.jpg'`\n",
        "> 1. Find any image of pizza, and upload it using the Files tab as in\n",
        "> the image below. Then right click and \"Copy path\", and use that path. [Click here](images/colab_img_upload.png) to see an screenshot of this if needed."
      ]
    },
    {
      "cell_type": "code",
      "execution_count": 9,
      "metadata": {
        "id": "-ScRhLaZ7i3u"
      },
      "outputs": [],
      "source": [
        "# Code it!\n",
        "my_image = load_img('/content/Pizza.jpg', target_size = (224, 224))"
      ]
    },
    {
      "cell_type": "markdown",
      "metadata": {
        "id": "6oXZzsxR7i3u"
      },
      "source": [
        "## 4. View the pizza image\n",
        "\n",
        "Let's take a quick look at the image to verify that it's a pizza.  Type the variable name and run the code block.\n",
        "\n",
        "```python\n",
        "my_image\n",
        "```"
      ]
    },
    {
      "cell_type": "code",
      "execution_count": 10,
      "metadata": {
        "id": "RiYGMtQp7i3v",
        "outputId": "21cfb34b-a24b-480d-9030-79d794a8cca3",
        "colab": {
          "base_uri": "https://localhost:8080/",
          "height": 241
        }
      },
      "outputs": [
        {
          "output_type": "execute_result",
          "data": {
            "text/plain": [
              "<PIL.Image.Image image mode=RGB size=224x224>"
            ],
            "image/png": "[encoded data removed]"
          },
          "metadata": {},
          "execution_count": 10
        }
      ],
      "source": [
        "# Code it!\n",
        "my_image\n"
      ]
    },
    {
      "cell_type": "markdown",
      "metadata": {
        "id": "IJUbFsHb7i3v"
      },
      "source": [
        "## 5. Convert image to array\n",
        "\n",
        "Convert the image to an array because the model expects it in this format. Take a quick look at the output too.\n",
        "\n",
        "```python\n",
        "# Convert the loaded image to an array format suitable for processing\n",
        "my_image = img_to_array(my_image)\n",
        "# View what my_image looks like now\n",
        "my_image\n",
        "```"
      ]
    },
    {
      "cell_type": "code",
      "execution_count": 11,
      "metadata": {
        "id": "8p8FdmqZ7i3v",
        "outputId": "24ddecce-9cbb-45a4-ee40-780547d2bc8d",
        "colab": {
          "base_uri": "https://localhost:8080/"
        }
      },
      "outputs": [
        {
          "output_type": "execute_result",
          "data": {
            "text/plain": [
              "array([[[ 40.,  35.,  31.],\n",
              "        [ 45.,  40.,  36.],\n",
              "        [ 52.,  47.,  43.],\n",
              "        ...,\n",
              "        [ 51.,  39.,  23.],\n",
              "        [ 35.,  25.,  16.],\n",
              "        [ 21.,  11.,   2.]],\n",
              "\n",
              "       [[ 58.,  53.,  49.],\n",
              "        [ 63.,  58.,  54.],\n",
              "        [ 65.,  60.,  56.],\n",
              "        ...,\n",
              "        [ 67.,  55.,  39.],\n",
              "        [ 70.,  56.,  43.],\n",
              "        [ 53.,  36.,  26.]],\n",
              "\n",
              "       [[ 69.,  64.,  60.],\n",
              "        [ 69.,  64.,  60.],\n",
              "        [ 65.,  60.,  56.],\n",
              "        ...,\n",
              "        [ 47.,  35.,  19.],\n",
              "        [ 79.,  58.,  39.],\n",
              "        [ 93.,  70.,  54.]],\n",
              "\n",
              "       ...,\n",
              "\n",
              "       [[132., 119., 111.],\n",
              "        [ 39.,  26.,  18.],\n",
              "        [ 67.,  50.,  40.],\n",
              "        ...,\n",
              "        [178., 173., 169.],\n",
              "        [205., 200., 196.],\n",
              "        [174., 169., 165.]],\n",
              "\n",
              "       [[ 61.,  50.,  32.],\n",
              "        [119.,  92.,  62.],\n",
              "        [133., 112.,  81.],\n",
              "        ...,\n",
              "        [176., 171., 167.],\n",
              "        [176., 171., 167.],\n",
              "        [167., 162., 158.]],\n",
              "\n",
              "       [[144., 128., 105.],\n",
              "        [152., 126.,  99.],\n",
              "        [133., 113.,  86.],\n",
              "        ...,\n",
              "        [178., 173., 169.],\n",
              "        [174., 169., 165.],\n",
              "        [188., 183., 179.]]], dtype=float32)"
            ]
          },
          "metadata": {},
          "execution_count": 11
        }
      ],
      "source": [
        "# Code it!\n",
        "my_image = img_to_array(my_image)\n",
        "my_image"
      ]
    },
    {
      "cell_type": "markdown",
      "metadata": {
        "id": "awleWcV67i3v"
      },
      "source": [
        "## 6. Reshape image\n",
        "\n",
        "Reshape the image.  All images fed to this model need to be 224 pixels high and 224 pixels wide, with 3 channels, one for each color (red, green, blue).  If our image was grayscale, how many channels would we specify?\n",
        "\n",
        "```python\n",
        "# Reshape the image array to the format the model expects (batch size, height, width, color channels)\n",
        "my_image = my_image.reshape((1, 224, 224, 3))\n",
        "```"
      ]
    },
    {
      "cell_type": "code",
      "execution_count": 13,
      "metadata": {
        "id": "Nv3XDbhx7i3v"
      },
      "outputs": [],
      "source": [
        "# Code it!\n",
        "my_image = my_image.reshape((1, 224, 224, 3))"
      ]
    },
    {
      "cell_type": "markdown",
      "metadata": {
        "id": "hlRItlAT7i3v"
      },
      "source": [
        "## 7. Preprocess image\n",
        "\n",
        "Execute the *preprocess_input()* function, which we imported from `tensorflow.keras.applications.resnet50`,  with the image as input.\n",
        "\n",
        "```python\n",
        "# Preprocess the image to ensure its values are appropriate for the ResNet50 model\n",
        "my_image = preprocess_input(my_image)\n",
        "# View the output\n",
        "my_image\n",
        "```"
      ]
    },
    {
      "cell_type": "code",
      "execution_count": 14,
      "metadata": {
        "id": "Vx9GZyGl7i3v",
        "outputId": "9faa5921-fffd-4df5-c768-f09a771d4bad",
        "colab": {
          "base_uri": "https://localhost:8080/"
        }
      },
      "outputs": [
        {
          "output_type": "execute_result",
          "data": {
            "text/plain": [
              "array([[[[ -72.939    ,  -81.779    ,  -83.68     ],\n",
              "         [ -67.939    ,  -76.779    ,  -78.68     ],\n",
              "         [ -60.939003 ,  -69.779    ,  -71.68     ],\n",
              "         ...,\n",
              "         [ -80.939    ,  -77.779    ,  -72.68     ],\n",
              "         [ -87.939    ,  -91.779    ,  -88.68     ],\n",
              "         [-101.939    , -105.779    , -102.68     ]],\n",
              "\n",
              "        [[ -54.939003 ,  -63.779    ,  -65.68     ],\n",
              "         [ -49.939003 ,  -58.779    ,  -60.68     ],\n",
              "         [ -47.939003 ,  -56.779    ,  -58.68     ],\n",
              "         ...,\n",
              "         [ -64.939    ,  -61.779    ,  -56.68     ],\n",
              "         [ -60.939003 ,  -60.779    ,  -53.68     ],\n",
              "         [ -77.939    ,  -80.779    ,  -70.68     ]],\n",
              "\n",
              "        [[ -43.939003 ,  -52.779    ,  -54.68     ],\n",
              "         [ -43.939003 ,  -52.779    ,  -54.68     ],\n",
              "         [ -47.939003 ,  -56.779    ,  -58.68     ],\n",
              "         ...,\n",
              "         [ -84.939    ,  -81.779    ,  -76.68     ],\n",
              "         [ -64.939    ,  -58.779    ,  -44.68     ],\n",
              "         [ -49.939003 ,  -46.779    ,  -30.68     ]],\n",
              "\n",
              "        ...,\n",
              "\n",
              "        [[   7.060997 ,    2.2210007,    8.32     ],\n",
              "         [ -85.939    ,  -90.779    ,  -84.68     ],\n",
              "         [ -63.939003 ,  -66.779    ,  -56.68     ],\n",
              "         ...,\n",
              "         [  65.061    ,   56.221    ,   54.32     ],\n",
              "         [  92.061    ,   83.221    ,   81.32     ],\n",
              "         [  61.060997 ,   52.221    ,   50.32     ]],\n",
              "\n",
              "        [[ -71.939    ,  -66.779    ,  -62.68     ],\n",
              "         [ -41.939003 ,  -24.779    ,   -4.6800003],\n",
              "         [ -22.939003 ,   -4.7789993,    9.32     ],\n",
              "         ...,\n",
              "         [  63.060997 ,   54.221    ,   52.32     ],\n",
              "         [  63.060997 ,   54.221    ,   52.32     ],\n",
              "         [  54.060997 ,   45.221    ,   43.32     ]],\n",
              "\n",
              "        [[   1.060997 ,   11.221001 ,   20.32     ],\n",
              "         [  -4.939003 ,    9.221001 ,   28.32     ],\n",
              "         [ -17.939003 ,   -3.7789993,    9.32     ],\n",
              "         ...,\n",
              "         [  65.061    ,   56.221    ,   54.32     ],\n",
              "         [  61.060997 ,   52.221    ,   50.32     ],\n",
              "         [  75.061    ,   66.221    ,   64.32     ]]]], dtype=float32)"
            ]
          },
          "metadata": {},
          "execution_count": 14
        }
      ],
      "source": [
        "# Code it!\n",
        "my_image = preprocess_input(my_image)\n",
        "my_image"
      ]
    },
    {
      "cell_type": "markdown",
      "metadata": {
        "id": "KWIxKnB07i3w"
      },
      "source": [
        "### <img src='https://github.com/kthomasuf/deep_learning/blob/main/images/note_icon.svg?raw=1' width=40, align='center' alt='Note icon'> What is returned by `preprocess_input()`?\n",
        "\n",
        "> From the documentation, you will see that the `tensorflow.keras.applications.resnet50.preprocess_input` function returns:\n",
        ">  > The images are converted from RGB to BGR, then each color channel is zero-centered with respect to the ImageNet dataset, without scaling.\n",
        ">\n",
        "> Again, this function is designed to get input images into the format that was used in training the model. It's a bit of an odd format (non-standard color channel order and not scaled), but that's what was used during training, so that is what we need to use at inference time."
      ]
    },
    {
      "cell_type": "markdown",
      "metadata": {
        "id": "kdPuVY6j7i3w"
      },
      "source": [
        "## 8. Execute predict method\n",
        "\n",
        "Execute the model's predict method.\n",
        "\n",
        "```python\n",
        "# Use the model to predict the class (or category) of the image\n",
        "my_result = my_model.predict(my_image)\n",
        "# View the result\n",
        "my_result\n",
        "```"
      ]
    },
    {
      "cell_type": "code",
      "execution_count": 15,
      "metadata": {
        "id": "ePxwH_2s7i3w",
        "outputId": "6dec7813-beef-45fb-d1f5-2a0fbee91617",
        "colab": {
          "base_uri": "https://localhost:8080/"
        }
      },
      "outputs": [
        {
          "output_type": "stream",
          "name": "stdout",
          "text": [
            "\u001b[1m1/1\u001b[0m \u001b[32m━━━━━━━━━━━━━━━━━━━━\u001b[0m\u001b[37m\u001b[0m \u001b[1m4s\u001b[0m 4s/step\n"
          ]
        },
        {
          "output_type": "execute_result",
          "data": {
            "text/plain": [
              "array([[5.40678162e-11, 7.75985942e-09, 5.56042712e-11, 1.52216122e-11,\n",
              "        2.06280219e-11, 7.15240922e-10, 4.71313613e-11, 1.32537883e-10,\n",
              "        7.22416960e-10, 2.31779721e-12, 2.35783587e-10, 1.97510151e-11,\n",
              "        2.16157381e-09, 1.06056892e-10, 7.05739330e-12, 3.45231899e-10,\n",
              "        4.76688133e-12, 3.18236548e-11, 1.23493726e-09, 1.87512172e-10,\n",
              "        9.41033276e-13, 1.09400011e-12, 3.72261163e-12, 3.35724330e-11,\n",
              "        3.34726240e-11, 4.81532305e-12, 1.01660199e-11, 2.58660954e-10,\n",
              "        9.57114041e-11, 9.16449468e-12, 5.47350047e-11, 4.65738247e-11,\n",
              "        3.87123805e-11, 2.59675309e-10, 1.30268962e-10, 1.31936337e-10,\n",
              "        3.29976259e-12, 3.17940035e-10, 5.83566390e-11, 4.92842933e-10,\n",
              "        5.71933556e-10, 5.08000586e-11, 3.35425576e-10, 2.69548637e-11,\n",
              "        1.39955603e-10, 2.89345298e-10, 6.13387743e-11, 1.51931575e-11,\n",
              "        3.59254085e-11, 2.92876877e-12, 2.14108765e-11, 1.32409960e-11,\n",
              "        3.58309042e-11, 4.49790871e-10, 8.63914806e-09, 1.02928993e-11,\n",
              "        1.46265083e-11, 1.73238490e-11, 3.55273207e-11, 5.04926725e-11,\n",
              "        9.12994180e-10, 2.12185922e-10, 7.55628633e-12, 2.46030488e-11,\n",
              "        9.42822643e-13, 4.18448089e-11, 8.48528747e-11, 1.82861726e-09,\n",
              "        6.60490898e-11, 4.96074959e-10, 1.71390860e-10, 7.91890928e-11,\n",
              "        1.34968469e-11, 1.38515949e-10, 5.78135873e-10, 8.19358581e-10,\n",
              "        6.04474137e-10, 7.10636550e-10, 2.69509814e-09, 4.42408714e-11,\n",
              "        3.36206020e-12, 3.02630733e-11, 1.28278693e-10, 5.43207562e-11,\n",
              "        1.41670382e-11, 2.52215054e-10, 1.39540060e-10, 4.05669769e-11,\n",
              "        2.22972335e-11, 5.43438385e-12, 5.54442464e-11, 2.05458263e-12,\n",
              "        3.31588880e-12, 8.31940627e-11, 2.00313155e-10, 4.15451121e-13,\n",
              "        1.12803135e-10, 3.72886888e-10, 8.67873481e-13, 3.73775880e-12,\n",
              "        2.29920705e-12, 4.85822103e-12, 8.11702094e-11, 6.88682531e-12,\n",
              "        7.51410809e-11, 3.20156124e-11, 1.78018184e-10, 4.80971686e-11,\n",
              "        1.85841564e-10, 5.29296953e-11, 2.17368935e-11, 7.69864103e-11,\n",
              "        3.47231521e-10, 5.39284950e-10, 9.68025549e-10, 2.92015384e-10,\n",
              "        1.05612955e-07, 1.66457481e-09, 1.75835702e-08, 9.06294559e-08,\n",
              "        3.34864185e-11, 1.79482951e-09, 2.26242114e-09, 4.79345674e-09,\n",
              "        6.41694786e-09, 1.69235848e-10, 4.55027793e-10, 3.42994540e-13,\n",
              "        3.72192105e-13, 1.03989397e-12, 8.16861075e-12, 6.19549854e-12,\n",
              "        1.35861797e-12, 8.73981963e-12, 2.14851661e-11, 2.75936798e-13,\n",
              "        8.94467226e-12, 1.07460820e-11, 2.08606201e-12, 4.94800201e-10,\n",
              "        4.39372316e-10, 6.35033692e-12, 1.41451139e-11, 4.93707072e-12,\n",
              "        1.34161204e-12, 1.46720535e-11, 1.62603112e-12, 3.06959861e-12,\n",
              "        2.29625325e-12, 9.25673817e-13, 1.43631884e-10, 1.98475403e-11,\n",
              "        9.08031191e-13, 9.98092147e-12, 2.70601545e-11, 2.28980890e-10,\n",
              "        6.50841464e-11, 1.67674867e-11, 1.30000333e-11, 1.17927265e-10,\n",
              "        1.01251707e-11, 2.87672414e-10, 2.53288640e-10, 2.92662755e-10,\n",
              "        1.30889632e-10, 1.21649343e-10, 6.62681576e-11, 1.39451636e-11,\n",
              "        3.16863036e-10, 2.02409270e-11, 1.23488641e-11, 2.17186581e-11,\n",
              "        7.67275945e-13, 2.16322815e-12, 2.70841294e-10, 3.38498001e-12,\n",
              "        1.86076640e-11, 1.81101384e-11, 1.01172209e-10, 1.14243240e-10,\n",
              "        4.38803438e-11, 7.01225623e-12, 1.67784703e-10, 2.23259154e-11,\n",
              "        1.19499866e-09, 6.29341801e-10, 1.71357737e-11, 2.65880859e-11,\n",
              "        6.32005906e-11, 8.06247638e-11, 9.89762178e-12, 5.12764997e-10,\n",
              "        3.57515094e-11, 1.80740187e-10, 5.20034849e-10, 4.58394572e-10,\n",
              "        1.57476011e-11, 1.20415856e-11, 2.81153607e-11, 7.84663584e-11,\n",
              "        2.71235569e-11, 4.11284687e-11, 1.16687507e-10, 1.65133567e-11,\n",
              "        1.88872858e-11, 1.92644414e-10, 3.11332141e-11, 1.51769253e-09,\n",
              "        4.30671970e-10, 4.14891094e-10, 1.17274714e-11, 4.83847962e-11,\n",
              "        7.55152496e-10, 5.89810811e-10, 6.47324278e-11, 6.55497490e-10,\n",
              "        2.90567327e-11, 1.79612297e-10, 1.14010168e-09, 1.74312564e-09,\n",
              "        7.15703191e-11, 9.34063330e-12, 7.31059798e-13, 1.51746893e-10,\n",
              "        3.62451930e-10, 1.98203121e-10, 2.25088633e-12, 2.78067218e-12,\n",
              "        2.82366426e-12, 7.32935154e-12, 4.51370842e-12, 4.81681327e-11,\n",
              "        1.29593655e-10, 7.81938472e-11, 4.35763564e-10, 1.31106679e-11,\n",
              "        2.84648503e-11, 7.18995141e-11, 5.47109667e-12, 1.12161591e-11,\n",
              "        6.82749066e-11, 7.46321685e-11, 1.27416133e-11, 4.06274708e-10,\n",
              "        5.98768170e-12, 1.73364184e-10, 4.86182899e-11, 4.72932971e-10,\n",
              "        1.42527462e-10, 2.03396024e-12, 7.61926078e-11, 9.88808480e-10,\n",
              "        1.58559520e-11, 1.39747811e-10, 4.07016948e-10, 1.32905764e-09,\n",
              "        1.75291365e-10, 1.41953845e-11, 1.61821043e-11, 1.45787785e-10,\n",
              "        5.84642890e-10, 7.73011377e-11, 3.05929698e-10, 3.68795584e-11,\n",
              "        9.82751727e-11, 8.45046168e-12, 1.34933273e-10, 1.94662897e-11,\n",
              "        8.72221739e-12, 5.80908585e-12, 2.24397757e-11, 6.78297479e-13,\n",
              "        7.26179811e-11, 1.39800324e-10, 2.06171642e-11, 6.30727935e-12,\n",
              "        4.81852266e-11, 1.85125405e-11, 9.82011087e-12, 4.09447684e-11,\n",
              "        1.19350085e-11, 2.12462103e-10, 1.26148902e-09, 5.39765246e-11,\n",
              "        2.18325538e-10, 9.85005549e-11, 1.86754692e-11, 4.19044133e-10,\n",
              "        7.97832425e-11, 1.07311096e-11, 3.75757550e-11, 8.33330210e-11,\n",
              "        2.15386303e-11, 4.10818983e-11, 2.72263930e-11, 3.22638201e-11,\n",
              "        9.74696192e-12, 6.98878282e-12, 1.47372618e-11, 4.14472706e-10,\n",
              "        8.24227752e-12, 1.03937157e-10, 8.06276851e-11, 7.41620515e-11,\n",
              "        3.76794602e-11, 2.17623336e-10, 2.38351477e-10, 1.14695191e-10,\n",
              "        7.95487374e-12, 3.43489348e-10, 4.14891366e-09, 1.05227736e-10,\n",
              "        1.33173417e-10, 1.09006880e-10, 7.98492383e-09, 1.69316242e-10,\n",
              "        7.80418178e-12, 3.62552479e-12, 3.41916689e-10, 6.84854994e-12,\n",
              "        9.45596726e-12, 4.56862742e-10, 2.24928995e-12, 7.92123051e-12,\n",
              "        1.66058070e-11, 2.13647381e-11, 1.75703424e-10, 7.68070718e-10,\n",
              "        1.37554315e-08, 1.10159215e-09, 7.10235135e-11, 1.79101803e-11,\n",
              "        5.87172672e-11, 5.22104082e-10, 6.01909356e-11, 9.36815838e-13,\n",
              "        1.04249612e-11, 1.53591001e-10, 2.37242948e-10, 2.31268325e-12,\n",
              "        6.75568369e-12, 7.97141866e-11, 3.00747968e-11, 1.56407602e-12,\n",
              "        4.69576244e-12, 4.88849759e-11, 3.15942997e-12, 1.60110345e-11,\n",
              "        1.85055513e-11, 4.20626034e-12, 1.15029444e-11, 4.52884935e-13,\n",
              "        9.38162308e-13, 2.21389400e-12, 3.62691539e-12, 2.69433989e-11,\n",
              "        8.98872903e-12, 3.01626172e-12, 7.30175642e-11, 8.36424263e-11,\n",
              "        1.53594804e-10, 3.47841894e-11, 1.94922689e-10, 9.84915344e-11,\n",
              "        8.44348463e-12, 5.09575325e-12, 3.30799055e-13, 3.85629766e-12,\n",
              "        3.23172478e-13, 5.13421825e-13, 4.54627167e-13, 8.25434068e-13,\n",
              "        3.37214767e-13, 1.20983570e-11, 4.26497596e-12, 3.87019274e-13,\n",
              "        3.75624054e-12, 4.57906499e-12, 5.21895136e-13, 1.54216093e-12,\n",
              "        1.44328794e-11, 7.51097643e-13, 2.84376619e-11, 7.33105764e-12,\n",
              "        1.33728163e-12, 9.51491056e-12, 2.46419703e-12, 1.33915906e-10,\n",
              "        1.65846000e-11, 1.99759445e-11, 7.67767461e-10, 2.00505432e-10,\n",
              "        1.03563295e-11, 4.01998018e-11, 1.77514566e-11, 1.02342350e-10,\n",
              "        3.58982150e-11, 4.08274997e-10, 4.31433916e-11, 4.82140673e-12,\n",
              "        2.33934660e-12, 1.33613828e-10, 4.42062248e-10, 5.59404224e-11,\n",
              "        7.74260430e-13, 7.54160016e-12, 7.19526105e-11, 9.96211655e-11,\n",
              "        2.47823480e-11, 1.64479919e-09, 9.22367183e-10, 1.32185507e-09,\n",
              "        1.55602140e-06, 1.01379549e-09, 2.47448706e-09, 4.24050495e-06,\n",
              "        5.92455295e-12, 6.21839732e-11, 3.14638766e-11, 1.94013194e-10,\n",
              "        2.67563127e-08, 1.17070575e-09, 3.14668078e-08, 6.02045136e-10,\n",
              "        2.74114221e-11, 8.49818493e-10, 2.78785084e-09, 4.42945975e-06,\n",
              "        1.96014625e-07, 3.34465400e-10, 1.85757850e-11, 2.99773782e-11,\n",
              "        6.24299709e-11, 1.17292218e-10, 1.56717035e-11, 4.19896201e-10,\n",
              "        5.09627097e-11, 3.00212827e-10, 1.09988893e-10, 7.60455310e-11,\n",
              "        4.27030383e-10, 5.49314136e-11, 5.35353359e-11, 1.30952055e-10,\n",
              "        3.12393930e-11, 5.00226839e-11, 2.64927143e-11, 5.49956025e-10,\n",
              "        2.02149714e-10, 3.09944535e-11, 7.89560257e-12, 9.51889567e-10,\n",
              "        2.67035699e-10, 1.35393724e-10, 2.32942762e-11, 9.48391019e-08,\n",
              "        1.50946321e-11, 8.68670899e-11, 2.90262414e-09, 1.17088145e-10,\n",
              "        5.29967070e-10, 6.67805117e-11, 8.28135061e-10, 1.23114731e-07,\n",
              "        3.05036019e-09, 3.95206812e-10, 4.16090704e-11, 4.97321029e-09,\n",
              "        1.28107289e-10, 2.05864308e-06, 2.76160605e-09, 3.18977023e-09,\n",
              "        2.82345553e-11, 1.77982878e-10, 2.88983854e-11, 8.61589189e-10,\n",
              "        2.91615551e-11, 4.99043473e-10, 5.88059601e-10, 2.85195489e-09,\n",
              "        8.82968809e-10, 1.34831396e-10, 3.32068956e-10, 3.24201985e-11,\n",
              "        1.10378189e-12, 4.14539336e-09, 1.36380948e-10, 1.81338689e-09,\n",
              "        2.93469493e-09, 2.90451285e-09, 3.55058483e-11, 8.24007029e-10,\n",
              "        6.12079165e-10, 1.43111425e-11, 7.04537650e-10, 1.61167728e-11,\n",
              "        3.34762669e-11, 1.76535161e-10, 2.58285926e-09, 2.23462621e-07,\n",
              "        5.19783392e-12, 9.25273573e-12, 1.17953214e-09, 2.47999867e-11,\n",
              "        6.89868500e-08, 2.68156786e-08, 5.33973088e-09, 1.27644184e-09,\n",
              "        1.59564895e-08, 4.46504084e-11, 5.03857893e-11, 3.10391782e-11,\n",
              "        5.86141358e-10, 9.32283504e-12, 4.11041784e-10, 2.52978194e-10,\n",
              "        1.25046876e-10, 1.52103025e-10, 4.17511581e-10, 1.49831045e-08,\n",
              "        6.69868403e-13, 2.15386308e-07, 2.95271481e-11, 1.02249382e-08,\n",
              "        3.27141370e-11, 1.33204714e-09, 3.01862723e-12, 7.22794255e-11,\n",
              "        3.83923116e-10, 2.27332354e-11, 1.01720632e-09, 7.03558711e-10,\n",
              "        6.86772028e-10, 2.37129538e-09, 1.66940128e-09, 6.16253182e-09,\n",
              "        6.83861079e-10, 3.99869547e-12, 5.47681345e-10, 5.39612657e-08,\n",
              "        6.48716011e-11, 3.20782378e-09, 2.15161805e-10, 3.35794006e-08,\n",
              "        3.01790424e-03, 7.94008748e-10, 2.25390151e-09, 2.16339863e-11,\n",
              "        4.23916935e-12, 7.05205547e-11, 1.37482381e-09, 1.27447067e-10,\n",
              "        7.54574805e-11, 2.48522786e-10, 2.70873671e-11, 5.52782577e-11,\n",
              "        9.91674582e-08, 1.20642121e-10, 6.24143489e-12, 1.67100147e-08,\n",
              "        8.33174432e-11, 5.72340930e-09, 1.72293591e-09, 2.04724612e-10,\n",
              "        1.75212397e-11, 1.48233725e-09, 2.43245007e-10, 3.79568175e-03,\n",
              "        5.17383081e-11, 4.69170258e-10, 8.64684679e-09, 1.26861242e-08,\n",
              "        1.03431341e-09, 8.04039724e-10, 3.95907696e-10, 1.29631472e-10,\n",
              "        3.65662570e-11, 3.68372755e-09, 1.31030756e-10, 7.49368789e-10,\n",
              "        1.37802353e-10, 3.10003978e-09, 1.73077497e-09, 2.74791245e-10,\n",
              "        1.77464585e-10, 3.23891712e-11, 3.78899190e-10, 1.29055366e-07,\n",
              "        6.47614531e-11, 7.80335310e-11, 6.94339863e-11, 5.35608710e-11,\n",
              "        3.20116628e-10, 6.64734864e-11, 3.15160086e-11, 3.59503607e-11,\n",
              "        4.16129264e-09, 7.48350382e-10, 4.00418552e-11, 2.50023522e-08,\n",
              "        3.43288464e-09, 2.58030090e-11, 1.19980718e-11, 3.10021843e-12,\n",
              "        6.36479758e-10, 3.96868996e-12, 2.03540318e-09, 5.43005356e-08,\n",
              "        6.99998913e-12, 1.91191923e-10, 1.99152472e-09, 5.43420309e-10,\n",
              "        8.75208517e-11, 2.66877354e-10, 1.27843180e-10, 6.52995158e-11,\n",
              "        3.20723934e-11, 2.57914471e-11, 3.03189182e-07, 2.04102846e-09,\n",
              "        2.83043011e-09, 6.37951958e-09, 3.18431326e-08, 1.24435939e-09,\n",
              "        9.41242050e-12, 8.84805978e-11, 2.05834749e-09, 1.96171038e-10,\n",
              "        2.53580629e-10, 1.19962868e-11, 4.44562526e-10, 3.19531013e-10,\n",
              "        4.27235691e-10, 1.89454188e-10, 1.15712444e-08, 4.49685372e-10,\n",
              "        2.01127476e-10, 1.83439273e-08, 3.77846539e-12, 8.90049319e-12,\n",
              "        7.73310092e-07, 3.99171737e-11, 1.02443318e-10, 1.12003518e-09,\n",
              "        4.69958406e-10, 7.30772907e-12, 1.07329576e-10, 1.78514110e-08,\n",
              "        2.88908762e-12, 1.08680686e-11, 5.14660675e-11, 5.03442728e-08,\n",
              "        1.45146490e-11, 3.58295016e-09, 4.03173800e-10, 3.81610091e-11,\n",
              "        3.19009263e-09, 7.56276430e-11, 4.73439343e-10, 3.12907446e-07,\n",
              "        1.66191627e-09, 1.03403466e-10, 4.10628032e-10, 6.75317181e-12,\n",
              "        7.66311847e-10, 2.99508751e-10, 6.03209838e-09, 7.58467872e-11,\n",
              "        1.67675197e-11, 4.13882123e-12, 7.76288978e-10, 1.63207538e-11,\n",
              "        1.71187647e-10, 1.77506643e-09, 1.08208786e-09, 8.58221046e-12,\n",
              "        3.34052716e-11, 7.27595051e-08, 5.62446145e-10, 1.73015124e-09,\n",
              "        7.46628714e-12, 6.41752296e-09, 3.78712783e-10, 1.97278981e-11,\n",
              "        1.02107342e-11, 5.85717808e-10, 7.14732584e-09, 7.66634065e-12,\n",
              "        8.06409106e-11, 9.49594656e-12, 1.74198381e-11, 8.74365927e-11,\n",
              "        1.06866960e-09, 1.00268405e-09, 2.56085236e-10, 1.09297833e-08,\n",
              "        6.03988914e-10, 1.86516080e-12, 3.32532569e-12, 1.00203292e-11,\n",
              "        3.04026671e-08, 1.95654777e-12, 1.01025811e-11, 1.31812383e-09,\n",
              "        1.22537651e-08, 4.05604939e-10, 6.92284910e-11, 4.61083088e-10,\n",
              "        1.44549275e-10, 3.08195483e-11, 1.56923807e-10, 2.58304385e-11,\n",
              "        9.73696146e-09, 6.78275214e-10, 2.40460950e-11, 7.14386710e-12,\n",
              "        1.82190152e-09, 4.43237475e-10, 1.43690809e-10, 1.18933599e-10,\n",
              "        2.98613599e-11, 1.93083285e-10, 9.63262692e-10, 1.95235245e-10,\n",
              "        3.33914130e-13, 1.79770310e-10, 1.65597724e-09, 3.73885367e-10,\n",
              "        4.06785894e-09, 1.29424005e-09, 6.23091162e-11, 5.44406120e-09,\n",
              "        1.05787587e-10, 1.09242970e-09, 9.49855958e-11, 6.60986196e-11,\n",
              "        3.43961248e-11, 5.75995085e-10, 3.80035374e-07, 6.39858722e-10,\n",
              "        2.10946496e-08, 7.56248623e-12, 8.25422006e-08, 1.53942359e-10,\n",
              "        4.06937012e-10, 2.12860035e-10, 3.48193545e-08, 3.05480141e-10,\n",
              "        7.12762349e-10, 5.39371381e-10, 8.98872903e-12, 4.65836258e-10,\n",
              "        2.51115323e-10, 6.79846712e-09, 1.63258462e-09, 1.19933485e-09,\n",
              "        9.64635092e-08, 6.63929245e-10, 8.96965946e-10, 1.07269818e-10,\n",
              "        6.80966661e-09, 1.68437297e-09, 8.23932425e-08, 4.29663610e-10,\n",
              "        1.65898281e-10, 2.37001130e-09, 1.62681390e-05, 3.46437018e-10,\n",
              "        5.84568227e-10, 2.62023914e-08, 1.27619848e-09, 1.53552993e-09,\n",
              "        1.46240339e-10, 5.11701015e-10, 6.51588020e-11, 7.87709134e-11,\n",
              "        1.33994593e-10, 3.68725259e-11, 3.56013814e-08, 1.00274522e-09,\n",
              "        1.51601579e-11, 1.00101337e-10, 3.37945005e-09, 3.17882922e-07,\n",
              "        9.10825815e-09, 2.98716799e-07, 9.86577930e-10, 4.93303787e-10,\n",
              "        7.29213478e-12, 4.82864053e-12, 4.65728733e-10, 5.52833446e-10,\n",
              "        1.12298117e-08, 6.95454198e-12, 5.64100112e-12, 1.50111416e-11,\n",
              "        1.94472605e-10, 7.60980889e-10, 8.90090501e-11, 5.63713520e-10,\n",
              "        8.37672709e-11, 2.97125519e-12, 4.75816331e-11, 1.77049736e-10,\n",
              "        9.48384704e-10, 1.55694305e-10, 7.41941647e-11, 1.33866626e-10,\n",
              "        1.20046459e-10, 1.18718424e-06, 7.62676589e-10, 3.66150985e-08,\n",
              "        3.11835557e-11, 7.49643426e-04, 1.98096335e-12, 3.41223466e-10,\n",
              "        5.91410421e-10, 8.99533226e-12, 3.32259176e-09, 3.57206313e-11,\n",
              "        7.26056576e-11, 1.34959280e-10, 3.79396736e-10, 1.09477722e-11,\n",
              "        1.07729159e-09, 3.14572951e-10, 3.53995833e-09, 4.62226126e-06,\n",
              "        1.74491639e-08, 6.59436047e-11, 1.12999742e-10, 1.08735680e-10,\n",
              "        6.00078667e-11, 1.03772740e-10, 1.36663736e-10, 1.64224112e-09,\n",
              "        1.36454320e-10, 1.40889536e-10, 7.10668746e-11, 1.60547131e-10,\n",
              "        4.36215092e-10, 3.29857031e-10, 4.48998651e-11, 2.35258923e-10,\n",
              "        9.24454824e-09, 5.52766544e-08, 7.28828733e-11, 8.70097439e-10,\n",
              "        1.30770089e-10, 1.04985820e-09, 2.88283203e-10, 7.18709314e-09,\n",
              "        3.50332408e-09, 3.69850591e-12, 2.48238374e-11, 5.68508435e-11,\n",
              "        5.39900104e-11, 3.95438127e-11, 5.33060783e-11, 2.03889954e-06,\n",
              "        8.29179433e-11, 9.80330626e-08, 1.04323057e-10, 2.42794309e-11,\n",
              "        8.86027474e-10, 2.63392303e-12, 1.10285980e-09, 3.03371372e-09,\n",
              "        2.28725227e-07, 3.42833401e-11, 5.70425873e-10, 2.52139282e-12,\n",
              "        2.08924975e-10, 1.72295372e-11, 5.67371801e-12, 2.81955934e-11,\n",
              "        2.65259104e-09, 5.63319003e-10, 1.51194868e-09, 4.77421103e-10,\n",
              "        5.51020674e-10, 1.21800792e-09, 1.03862297e-09, 3.34639738e-09,\n",
              "        1.90089069e-10, 2.16786075e-10, 3.34623991e-08, 2.21630370e-11,\n",
              "        2.90698732e-11, 7.98083544e-11, 5.95811540e-13, 1.44308945e-06,\n",
              "        6.61397603e-10, 3.85264598e-11, 7.79598955e-11, 2.23571509e-11,\n",
              "        4.32133573e-09, 3.28276162e-09, 2.01743344e-10, 1.68152892e-09,\n",
              "        1.50985635e-09, 1.18148087e-11, 3.66160921e-11, 2.29239600e-10,\n",
              "        5.39234601e-10, 6.52771032e-11, 2.31690426e-12, 2.35370667e-10,\n",
              "        1.68620985e-11, 4.86897799e-04, 1.69614600e-06, 1.21251370e-10,\n",
              "        3.13612758e-09, 4.26494569e-11, 1.38340489e-12, 1.06398501e-10,\n",
              "        1.89741244e-11, 5.70760730e-11, 1.22619950e-08, 7.89342813e-10,\n",
              "        4.11890611e-08, 7.40059056e-11, 2.52238741e-09, 8.05929460e-07,\n",
              "        3.54782124e-08, 3.40692341e-09, 1.85083067e-07, 6.26840745e-07,\n",
              "        7.86903911e-08, 9.80797332e-10, 1.46624120e-06, 3.40176962e-06,\n",
              "        2.27380497e-07, 8.00220263e-08, 5.42676091e-08, 3.32214569e-07,\n",
              "        7.09709047e-09, 1.57866239e-07, 2.90914528e-07, 3.67285497e-06,\n",
              "        2.42820533e-07, 1.36121730e-06, 1.17291120e-06, 1.22514754e-08,\n",
              "        9.79728298e-09, 2.28855370e-08, 1.79659482e-11, 2.96873495e-08,\n",
              "        1.47417055e-07, 3.90277464e-08, 5.80130575e-07, 5.96422634e-11,\n",
              "        3.64047956e-08, 5.22559844e-08, 6.24731600e-09, 3.03217114e-08,\n",
              "        1.68270642e-09, 2.44615403e-08, 6.48610818e-11, 3.39993385e-08,\n",
              "        2.19433751e-08, 9.06263892e-07, 1.35038215e-06, 9.91674364e-01,\n",
              "        2.11015737e-04, 1.83433322e-08, 4.04542844e-09, 1.26839296e-07,\n",
              "        3.38790613e-08, 7.74431896e-09, 2.83686442e-11, 1.94781469e-10,\n",
              "        3.00257874e-11, 9.71861567e-12, 2.73675388e-11, 1.81753328e-11,\n",
              "        6.82591136e-12, 7.08340765e-12, 5.03288123e-12, 2.80801380e-12,\n",
              "        3.43302053e-10, 2.13889982e-11, 2.01280589e-10, 1.81303667e-10,\n",
              "        2.94483947e-12, 5.18639132e-10, 3.47682022e-11, 1.08456072e-06,\n",
              "        3.17958393e-09, 4.63207500e-10, 1.28755344e-08, 1.43581280e-09,\n",
              "        2.85992030e-08, 4.75025852e-10, 1.02035855e-08, 4.57639815e-10,\n",
              "        1.95484731e-08, 2.84219965e-07, 1.56694568e-08, 9.59290772e-11]],\n",
              "      dtype=float32)"
            ]
          },
          "metadata": {},
          "execution_count": 15
        }
      ],
      "source": [
        "# Code it!\n",
        "my_result = my_model.predict(my_image)\n",
        "my_result"
      ]
    },
    {
      "cell_type": "markdown",
      "metadata": {
        "id": "xlx8FqE_7i3w"
      },
      "source": [
        "How could you verify that there are 1,000 numbers in the `my_result` variable?\n",
        "\n",
        "* Try coding that.\n",
        "* You may get a clearly incorrect answer. Look closely at how `my_result` printed and see if you can figure out how to get the number of values.\n",
        "   * Hint, how many square bracket sets are there in `my_result`?"
      ]
    },
    {
      "cell_type": "code",
      "execution_count": 16,
      "metadata": {
        "tags": [],
        "id": "UAOcGczA7i3w",
        "outputId": "60d7f6ba-d021-416b-9cd0-15737abc170e",
        "colab": {
          "base_uri": "https://localhost:8080/"
        }
      },
      "outputs": [
        {
          "output_type": "execute_result",
          "data": {
            "text/plain": [
              "(1, 1000)"
            ]
          },
          "metadata": {},
          "execution_count": 16
        }
      ],
      "source": [
        "# Code it\n",
        "my_result.shape"
      ]
    },
    {
      "cell_type": "markdown",
      "metadata": {
        "id": "mX22Mgv47i3w"
      },
      "source": [
        "## 9. Get prediction label\n",
        "\n",
        "The model's predict method returns an array with 1,000 numbers. Each number is the \"probability\" that the input image belongs to the corresponding category. The category list is in [this text file](ImageNet_1K_labels.txt).\n",
        "\n",
        "Convert this to its corresponding text label. We could find the maximum value and look up the category, but the `decode_predictions` function does this for us. According to [the documentation](https://www.tensorflow.org/api_docs/python/tf/keras/applications/resnet50/decode_predictions), `decode_predictions` returns: class name, class label and probability of the top five results by default.\n",
        "\n",
        "```python\n",
        "# Decode the prediction result to get human-readable class labels\n",
        "my_label = decode_predictions(my_result)\n",
        "my_label\n",
        "```"
      ]
    },
    {
      "cell_type": "code",
      "execution_count": 17,
      "metadata": {
        "id": "6hUoOih47i3x",
        "outputId": "f01fb309-4fab-43a8-da9a-761d7720ced1",
        "colab": {
          "base_uri": "https://localhost:8080/"
        }
      },
      "outputs": [
        {
          "output_type": "stream",
          "name": "stdout",
          "text": [
            "Downloading data from https://storage.googleapis.com/download.tensorflow.org/data/imagenet_class_index.json\n",
            "\u001b[1m35363/35363\u001b[0m \u001b[32m━━━━━━━━━━━━━━━━━━━━\u001b[0m\u001b[37m\u001b[0m \u001b[1m0s\u001b[0m 0us/step\n"
          ]
        },
        {
          "output_type": "execute_result",
          "data": {
            "text/plain": [
              "[[('n07873807', 'pizza', 0.99167436),\n",
              "  ('n03400231', 'frying_pan', 0.0037956818),\n",
              "  ('n03259280', 'Dutch_oven', 0.0030179042),\n",
              "  ('n04270147', 'spatula', 0.0007496434),\n",
              "  ('n04596742', 'wok', 0.0004868978)]]"
            ]
          },
          "metadata": {},
          "execution_count": 17
        }
      ],
      "source": [
        "# Code it!\n",
        "my_label = decode_predictions(my_result)\n",
        "my_label"
      ]
    },
    {
      "cell_type": "markdown",
      "metadata": {
        "id": "vzDnTE1A7i3x"
      },
      "source": [
        "## 10. Assign list item to a variable\n",
        "\n",
        "Assign the first item listed by the prediction to a variable - this is the label with the highest probability.\n",
        "\n",
        "* Extract the label with the highest predicted probability.\n",
        "   * Recalling that in Python, all indexes start at 0, the [0][0] indexing retrieves the first prediction from the first batch of results.\n",
        "\n",
        "```python\n",
        "my_label = my_label[0][0]\n",
        "my_label\n",
        "```"
      ]
    },
    {
      "cell_type": "code",
      "execution_count": 18,
      "metadata": {
        "id": "oUK_g6bF7i3x",
        "outputId": "299cf2aa-2897-49e6-d010-b341f48d3f6f",
        "colab": {
          "base_uri": "https://localhost:8080/"
        }
      },
      "outputs": [
        {
          "output_type": "execute_result",
          "data": {
            "text/plain": [
              "('n07873807', 'pizza', 0.99167436)"
            ]
          },
          "metadata": {},
          "execution_count": 18
        }
      ],
      "source": [
        "# Code it!\n",
        "my_label = my_label[0][0]\n",
        "my_label"
      ]
    },
    {
      "cell_type": "markdown",
      "metadata": {
        "id": "7Hrwqkqr7i3x"
      },
      "source": [
        "## 11. Print the label\n",
        "\n",
        "Include the label in a sentence and then print it.\n",
        "\n",
        "* The `my_label` variable contains information about the prediction in the format (ID, Label, Probability).\n",
        "* Using `my_label[1]` extracts the human-readable label (e.g., 'pizza') for the predicted class.\n",
        "\n",
        "```python\n",
        "# Print the predicted class label in a formatted string\n",
        "print(f\"This is an image of a {my_label[1]}!\")\n",
        "```"
      ]
    },
    {
      "cell_type": "code",
      "execution_count": 19,
      "metadata": {
        "id": "XJIgRkZs7i3x",
        "outputId": "6dcc2884-832a-4b14-b757-fd1eeda9f43a",
        "colab": {
          "base_uri": "https://localhost:8080/"
        }
      },
      "outputs": [
        {
          "output_type": "stream",
          "name": "stdout",
          "text": [
            "This is an image of a pizza!\n"
          ]
        }
      ],
      "source": [
        "# Code it!\n",
        "print(f\"This is an image of a {my_label[1]}!\")"
      ]
    },
    {
      "cell_type": "markdown",
      "metadata": {
        "id": "3Ife8sLS7i3x"
      },
      "source": [
        "### <img src='https://github.com/kthomasuf/deep_learning/blob/main/images/tip_icon.svg?raw=1' width=40, align='center' alt='Tip icon'> Tip\n",
        "> Although we use an image of a pizza here, you can use just about any image with\n",
        "> this model. Try out this exercise multiple times with different images to see if\n",
        "> you can fool it. The [ImageNet_1K_labels.txt](https://raw.githubusercontent.com/PracticumAI/deep_learning/main/Image_Net_1K_labels.txt)\n",
        "> file lists all the image categories this model is trained to classify."
      ]
    },
    {
      "cell_type": "markdown",
      "metadata": {
        "id": "uGI2rQFj7i3x"
      },
      "source": [
        "## 12. Create a speech sentence\n",
        "\n",
        "As a busy scientist, Dr. Amelia tries to multi-task as much as possible. Now that she has the image recognition step worked out, she wants to add an audio component to her program to read the results while working out at the gym.\n",
        "\n",
        "Luckily, text-to-speech technology is as easy to implement as image recognition! Let's help Amelia get the next step of her prototype up and running!\n",
        "\n",
        "Create a longer sentence to convert to speech.\n",
        "```python\n",
        "say_it = f\"This participant is eating {my_label[1]} today.\"\n",
        "```"
      ]
    },
    {
      "cell_type": "code",
      "execution_count": 20,
      "metadata": {
        "id": "tRBw7alZ7i3y"
      },
      "outputs": [],
      "source": [
        "# Code it!\n",
        "say_it = f\"This participant is eating {my_label[1]} today.\""
      ]
    },
    {
      "cell_type": "markdown",
      "metadata": {
        "id": "0zCkCQMG7i3y"
      },
      "source": [
        "## 13. Execute the gtts function\n",
        "\n",
        "Pass the say_it variable to the gTTS API.\n",
        "\n",
        "```python\n",
        "my_speech = gTTS(text = say_it)\n",
        "```"
      ]
    },
    {
      "cell_type": "code",
      "execution_count": 21,
      "metadata": {
        "id": "7XQcrBkk7i3y"
      },
      "outputs": [],
      "source": [
        "# Code it!\n",
        "my_speech = gTTS(text = say_it)"
      ]
    },
    {
      "cell_type": "markdown",
      "metadata": {
        "id": "66IhNI3A7i3y"
      },
      "source": [
        "## 14. Save the audio file\n",
        "\n",
        "gTTS will convert the string you gave it into an audio file. Save the audio file. The default location is the current directory.\n",
        "\n",
        "```python\n",
        "# Save the audio file in the current directory.\n",
        "my_speech.save(\"prediction.mp3\")\n",
        "```"
      ]
    },
    {
      "cell_type": "code",
      "execution_count": 22,
      "metadata": {
        "id": "D34K8AZ27i3y"
      },
      "outputs": [],
      "source": [
        "# Code it!\n",
        "my_speech.save(\"prediction.mp3\")"
      ]
    },
    {
      "cell_type": "markdown",
      "metadata": {
        "id": "edTPOvuR7i3y"
      },
      "source": [
        "### <img src='https://github.com/kthomasuf/deep_learning/blob/main/images/note_icon.svg?raw=1' width=40, align='center' alt='Note icon'> Note\n",
        "> This last block of code is only needed if you are running Jupyter Notebooks\n",
        "> on a local computer.  Otherwise, download the .mp3 file from your HPC system and\n",
        "> listen to it on your computer."
      ]
    },
    {
      "cell_type": "code",
      "execution_count": 23,
      "metadata": {
        "id": "p_jFia8l7i3y"
      },
      "outputs": [],
      "source": [
        "# Uncomment and run if running on local system as opposed to HPC or Google Colab\n",
        "# os.system(\"prediction.mp3\")"
      ]
    },
    {
      "cell_type": "markdown",
      "metadata": {
        "id": "t3WsqUgx7i3z"
      },
      "source": [
        "## 15. Let's put it all together\n",
        "\n",
        "We can put all of these steps together in a function to make it easier to test more images."
      ]
    },
    {
      "cell_type": "code",
      "execution_count": 24,
      "metadata": {
        "id": "q8c-KI2s7i3z"
      },
      "outputs": [],
      "source": [
        "def what_are_they_eating(image):\n",
        "    '''Takes an image and returns a ResNet50 prediction.'''\n",
        "    my_image = load_img(image, target_size = (224, 224))\n",
        "    my_image = img_to_array(my_image)\n",
        "    my_image = my_image.reshape((1, 224, 224, 3))\n",
        "    my_image = preprocess_input(my_image)\n",
        "    my_result = my_model.predict(my_image)\n",
        "    my_label = decode_predictions(my_result)\n",
        "\n",
        "    return my_label[0][0]\n",
        "\n",
        "def tell_me_what_they_ate(label):\n",
        "    '''Takes a label and returns a mp3 speech file with the item that was eaten.'''\n",
        "    say_it = f\"This participant is eating {label} today.\"\n",
        "    my_speech = gTTS(text = say_it)\n",
        "    my_speech.save(f\"{label}_prediction.mp3\")\n",
        "    print(f\"Sound file saved to {label}_prediction.mp3\")"
      ]
    },
    {
      "cell_type": "code",
      "execution_count": 26,
      "metadata": {
        "id": "_xjGpLSe7i3z",
        "outputId": "07d143cd-a732-402c-9e78-f492ba8be367",
        "colab": {
          "base_uri": "https://localhost:8080/"
        }
      },
      "outputs": [
        {
          "output_type": "stream",
          "name": "stdout",
          "text": [
            "\u001b[1m1/1\u001b[0m \u001b[32m━━━━━━━━━━━━━━━━━━━━\u001b[0m\u001b[37m\u001b[0m \u001b[1m0s\u001b[0m 356ms/step\n",
            "('n07873807', 'pizza', 0.99991965)\n",
            "Sound file saved to pizza_prediction.mp3\n"
          ]
        }
      ],
      "source": [
        "# Now run on a new image of pizza\n",
        "# Image courtesy of Ruslan Khmelevsky https://www.pexels.com/photo/a-pizza-inside-the-brick-oven-14129177/\n",
        "label = what_are_they_eating('/content/Pizza2.jpg')\n",
        "print(label)\n",
        "\n",
        "tell_me_what_they_ate(label[1])"
      ]
    },
    {
      "cell_type": "markdown",
      "metadata": {
        "id": "Eyj-x0db7i30"
      },
      "source": [
        "## 16. Test other items\n",
        "Amelia should also test with some other food items to ensure her system is working. Let's try this burger.\n",
        "\n",
        "![Photo of a hamburger](https://github.com/kthomasuf/deep_learning/blob/main/images/hamburger.jpg?raw=1)"
      ]
    },
    {
      "cell_type": "code",
      "execution_count": 28,
      "metadata": {
        "id": "hx4gJOTq7i30",
        "outputId": "6c51c31d-8fb5-49ea-ef07-d27285343485",
        "colab": {
          "base_uri": "https://localhost:8080/"
        }
      },
      "outputs": [
        {
          "output_type": "stream",
          "name": "stdout",
          "text": [
            "\u001b[1m1/1\u001b[0m \u001b[32m━━━━━━━━━━━━━━━━━━━━\u001b[0m\u001b[37m\u001b[0m \u001b[1m0s\u001b[0m 235ms/step\n",
            "('n07697313', 'cheeseburger', 0.7626688)\n",
            "Sound file saved to cheeseburger_prediction.mp3\n"
          ]
        }
      ],
      "source": [
        "label = what_are_they_eating('/content/Hamburger.jpg')\n",
        "print(label)\n",
        "\n",
        "tell_me_what_they_ate(label[1])"
      ]
    },
    {
      "cell_type": "markdown",
      "metadata": {
        "id": "w2E49GVz7i30"
      },
      "source": [
        "#### How did that work?\n",
        "\n",
        "Amelia's classifier works well, predicting that the image is a cheeseburger. But...I don't see any cheese on that burger! Why do you think the cheeseburger category was selected? Remember to look at the [ImageNet categories](ImageNet_1K_labels.txt).\n",
        "\n",
        "Remember, a model will output probabilities of the categories it was trained on, and all the output probabilities must sum to one. The model has no mechanism to tell you it doesn't recognize the image!\n",
        "\n",
        "\n",
        "## 17. More challenges\n",
        "\n",
        "Hmm...While reviewing some predictions, Amelia discovers a problem. Did the participant eat pizza again? or is this a quiche?\n",
        "\n",
        "![A photo of quiche](https://github.com/kthomasuf/deep_learning/blob/main/images/quiche.jpg?raw=1)"
      ]
    },
    {
      "cell_type": "code",
      "execution_count": 30,
      "metadata": {
        "id": "28xkpSlT7i30",
        "outputId": "666bfcc0-fce9-484d-8e97-5348330a9aad",
        "colab": {
          "base_uri": "https://localhost:8080/"
        }
      },
      "outputs": [
        {
          "output_type": "stream",
          "name": "stdout",
          "text": [
            "\u001b[1m1/1\u001b[0m \u001b[32m━━━━━━━━━━━━━━━━━━━━\u001b[0m\u001b[37m\u001b[0m \u001b[1m0s\u001b[0m 223ms/step\n",
            "('n07873807', 'pizza', 0.2877466)\n",
            "Sound file saved to pizza_prediction.mp3\n"
          ]
        }
      ],
      "source": [
        "label = what_are_they_eating('/content/Quiche.jpg')\n",
        "print(label)\n",
        "\n",
        "tell_me_what_they_ate(label[1])"
      ]
    },
    {
      "cell_type": "markdown",
      "metadata": {
        "id": "SqYO1OdH7i30"
      },
      "source": [
        "Again, consider the importance of training data representing the data used when the model is deployed. Recognize the limitations of models to make predictions based on the training categories.\n",
        "\n",
        "These issues relate to the discussion of AI ethics and how well your AI model will work. If the training data do not represent the data used in deployment, AI models will be of limited value and can even be misleading. The consequences may be manageable for Amelia's research study, but we must carefully evaluate the performance and suitability of all AI models as we work with them.\n",
        "\n",
        "Hopefully, this fun exercise showed how easy it can be to use AI models to accomplish everyday tasks like image classification and text-to-speech.\n",
        "\n",
        "### Further refinement\n",
        "\n",
        "As we have helped Dr. Amelia discover, she may be unable to use ResNet50 trained on ImageNet for her task. There are too few food categories to work reliably for her study. Does that mean she needs to start from scratch?\n",
        "\n",
        "No! In a future *Practicum AI* course, you can learn about **transfer learning**. Transfer learning allows you to take a model trained on one dataset and fine-tune it for a new dataset. With transfer learning, you can harness the information a model has learned about its training data, 1,000 categories of objects in the case of ImageNet, and add new information specific to your task. The advantage here is that you typically need far less data to train a model to recognize many food types, for example, when it already knows about food and many other things in the world!\n",
        "\n",
        "\n",
        "Please tune in to our next notebook to see what Amelia is up to next!\n"
      ]
    },
    {
      "cell_type": "markdown",
      "metadata": {
        "id": "oEdtU6ie7i30"
      },
      "source": [
        "## Bonus Exercises\n",
        "\n",
        "1. Change the code so that if the confidence of the model's prediction is less than 0.75, the code output says it's not sure what the image is.\n",
        "1. Change the code to output the top *n* categories and their probabilities.\n",
        "1. Change the code so that each loaded image has its label added to a list saved to a text file.\n",
        "\n",
        "\n",
        "## Before continuing\n",
        "###  <img src='https://github.com/kthomasuf/deep_learning/blob/main/images/alert_icon.svg?raw=1' alt=\"Alert icon\" width=40 align=center> Alert!\n",
        "> Before continuing to another notebook within the same Jupyter session,\n",
        "> use the **\"Running Terminals and Kernels\" tab** (below the File Browser tab) to **shut down this kernel**.\n",
        "> This will free up this notebook's GPU memory, making it available for\n",
        "> your next notebook.\n",
        ">\n",
        "> Every time you run multiple notebooks within a Jupyter session with a GPU, this should be done.\n",
        ">\n",
        "> ![Screenshot of the Running Terminals and Kernels tab used t oshut down kernels before starting a new notebook](https://github.com/kthomasuf/deep_learning/blob/main/images/stop_kernel.png?raw=1)"
      ]
    },
    {
      "cell_type": "markdown",
      "metadata": {
        "tags": [],
        "id": "bvD7Mbtk7i31"
      },
      "source": [
        "----\n",
        "## Push changes to GitHub <img src=\"https://github.com/kthomasuf/deep_learning/blob/main/images/push_to_github.png?raw=1\" alt=\"Push to GitHub icon\" align=\"right\" width=150>\n",
        "\n",
        " Remember to **add**, **commit**, and **push** the changes you have made to this notebook to GitHub to keep your repository in sync.\n",
        "\n",
        "In Jupyter, those are done in the git tab on the left. In Google Colab, use File > Save a copy in GitHub.\n"
      ]
    },
    {
      "cell_type": "code",
      "execution_count": null,
      "metadata": {
        "id": "CimzCJsZ7i31"
      },
      "outputs": [],
      "source": []
    }
  ],
  "metadata": {
    "kernelspec": {
      "display_name": "Tensorflow-2.15",
      "language": "python",
      "name": "tensorflow-2.15"
    },
    "language_info": {
      "codemirror_mode": {
        "name": "ipython",
        "version": 3
      },
      "file_extension": ".py",
      "mimetype": "text/x-python",
      "name": "python",
      "nbconvert_exporter": "python",
      "pygments_lexer": "ipython3",
      "version": "3.11.5"
    },
    "colab": {
      "provenance": []
    }
  },
  "nbformat": 4,
  "nbformat_minor": 0
}